{
 "cells": [
  {
   "cell_type": "markdown",
   "metadata": {},
   "source": [
    "# Get ERCOT Ancillary Services Prices"
   ]
  },
  {
   "cell_type": "code",
   "execution_count": 1,
   "metadata": {},
   "outputs": [],
   "source": [
    "import gridstatus\n",
    "import pandas as pd\n",
    "import plotly.express as px"
   ]
  },
  {
   "cell_type": "code",
   "execution_count": 2,
   "metadata": {},
   "outputs": [],
   "source": [
    "iso = gridstatus.Ercot()"
   ]
  },
  {
   "cell_type": "markdown",
   "metadata": {},
   "source": [
    "## Get AS Prices\n",
    "\n",
    "Note: the time specified is the delivery time of the ancillary service"
   ]
  },
  {
   "cell_type": "code",
   "execution_count": 3,
   "metadata": {},
   "outputs": [
    {
     "data": {
      "text/html": [
       "<div>\n",
       "<style scoped>\n",
       "    .dataframe tbody tr th:only-of-type {\n",
       "        vertical-align: middle;\n",
       "    }\n",
       "\n",
       "    .dataframe tbody tr th {\n",
       "        vertical-align: top;\n",
       "    }\n",
       "\n",
       "    .dataframe thead th {\n",
       "        text-align: right;\n",
       "    }\n",
       "</style>\n",
       "<table border=\"1\" class=\"dataframe\">\n",
       "  <thead>\n",
       "    <tr style=\"text-align: right;\">\n",
       "      <th></th>\n",
       "      <th>Time</th>\n",
       "      <th>Market</th>\n",
       "      <th>Non-Spinning Reserves</th>\n",
       "      <th>Regulation Down</th>\n",
       "      <th>Regulation Up</th>\n",
       "      <th>Responsive Reserves</th>\n",
       "    </tr>\n",
       "  </thead>\n",
       "  <tbody>\n",
       "    <tr>\n",
       "      <th>0</th>\n",
       "      <td>2022-11-29 00:00:00-06:00</td>\n",
       "      <td>DAM</td>\n",
       "      <td>0.75</td>\n",
       "      <td>4.00</td>\n",
       "      <td>3.19</td>\n",
       "      <td>2.39</td>\n",
       "    </tr>\n",
       "    <tr>\n",
       "      <th>1</th>\n",
       "      <td>2022-11-29 01:00:00-06:00</td>\n",
       "      <td>DAM</td>\n",
       "      <td>0.55</td>\n",
       "      <td>3.69</td>\n",
       "      <td>4.69</td>\n",
       "      <td>2.69</td>\n",
       "    </tr>\n",
       "    <tr>\n",
       "      <th>2</th>\n",
       "      <td>2022-11-29 02:00:00-06:00</td>\n",
       "      <td>DAM</td>\n",
       "      <td>0.48</td>\n",
       "      <td>2.41</td>\n",
       "      <td>3.19</td>\n",
       "      <td>2.39</td>\n",
       "    </tr>\n",
       "    <tr>\n",
       "      <th>3</th>\n",
       "      <td>2022-11-29 03:00:00-06:00</td>\n",
       "      <td>DAM</td>\n",
       "      <td>0.69</td>\n",
       "      <td>3.50</td>\n",
       "      <td>4.69</td>\n",
       "      <td>2.69</td>\n",
       "    </tr>\n",
       "    <tr>\n",
       "      <th>4</th>\n",
       "      <td>2022-11-29 04:00:00-06:00</td>\n",
       "      <td>DAM</td>\n",
       "      <td>0.50</td>\n",
       "      <td>4.00</td>\n",
       "      <td>5.98</td>\n",
       "      <td>2.69</td>\n",
       "    </tr>\n",
       "  </tbody>\n",
       "</table>\n",
       "</div>"
      ],
      "text/plain": [
       "                       Time Market  Non-Spinning Reserves  Regulation Down  \\\n",
       "0 2022-11-29 00:00:00-06:00    DAM                   0.75             4.00   \n",
       "1 2022-11-29 01:00:00-06:00    DAM                   0.55             3.69   \n",
       "2 2022-11-29 02:00:00-06:00    DAM                   0.48             2.41   \n",
       "3 2022-11-29 03:00:00-06:00    DAM                   0.69             3.50   \n",
       "4 2022-11-29 04:00:00-06:00    DAM                   0.50             4.00   \n",
       "\n",
       "   Regulation Up  Responsive Reserves  \n",
       "0           3.19                 2.39  \n",
       "1           4.69                 2.69  \n",
       "2           3.19                 2.39  \n",
       "3           4.69                 2.69  \n",
       "4           5.98                 2.69  "
      ]
     },
     "execution_count": 3,
     "metadata": {},
     "output_type": "execute_result"
    }
   ],
   "source": [
    "df = iso.get_as_prices(\"today\")\n",
    "df.head(5)"
   ]
  },
  {
   "cell_type": "markdown",
   "metadata": {},
   "source": [
    "## Get Historical AS Prices\n",
    "\n",
    "ERCOT publishes the last 30 days of prices."
   ]
  },
  {
   "cell_type": "code",
   "execution_count": 4,
   "metadata": {},
   "outputs": [
    {
     "name": "stderr",
     "output_type": "stream",
     "text": [
      " 90%|█████████ | 28/31 [00:09<00:01,  2.36it/s]"
     ]
    }
   ],
   "source": [
    "thirty_days_ago = pd.Timestamp.now().date() - pd.Timedelta(days=30)\n",
    "df = iso.get_as_prices(start=thirty_days_ago, end=\"today\")\n",
    "df"
   ]
  },
  {
   "cell_type": "code",
   "execution_count": null,
   "metadata": {},
   "outputs": [],
   "source": [
    "data = df.set_index(\"Time\").drop(columns=[\"Market\"])\n",
    "data.columns.name = \"AS Type\"\n",
    "fig = px.line(data, x=data.index, y=data.columns, title=\"Ancillary Services Prices for ERCOT, last 30 days\")\n",
    "fig.update_yaxes(title=\"Market Clearing Price\")\n",
    "fig.show(\"svg\", width = 1200, height = 600)"
   ]
  }
 ],
 "metadata": {
  "kernelspec": {
   "display_name": "Python 3.10.2 64-bit ('isodata')",
   "language": "python",
   "name": "python3"
  },
  "language_info": {
   "codemirror_mode": {
    "name": "ipython",
    "version": 3
   },
   "file_extension": ".py",
   "mimetype": "text/x-python",
   "name": "python",
   "nbconvert_exporter": "python",
   "pygments_lexer": "ipython3",
   "version": "3.10.2"
  },
  "orig_nbformat": 4,
  "vscode": {
   "interpreter": {
    "hash": "49f14642123d0cc1afa9fa45716ed5f1e915189c28b01efe02a8b7ec3c0a3fce"
   }
  }
 },
 "nbformat": 4,
 "nbformat_minor": 2
}
