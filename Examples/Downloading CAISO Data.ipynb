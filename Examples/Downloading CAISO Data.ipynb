{
 "cells": [
  {
   "cell_type": "markdown",
   "id": "1bb903de",
   "metadata": {},
   "source": [
    "# Downloading CAISO Data"
   ]
  },
  {
   "cell_type": "code",
   "execution_count": 1,
   "id": "3599dfce",
   "metadata": {},
   "outputs": [],
   "source": [
    "import isodata\n",
    "import pandas as pd\n",
    "import plotly.express as px\n",
    "import plotly.graph_objs as go"
   ]
  },
  {
   "cell_type": "markdown",
   "id": "b595403f",
   "metadata": {},
   "source": [
    "we will be using CAISO in this example, but most of this API will also work with all other ISOs"
   ]
  },
  {
   "cell_type": "code",
   "execution_count": 2,
   "id": "d9b0f99c",
   "metadata": {},
   "outputs": [],
   "source": [
    "caiso = isodata.CAISO()"
   ]
  },
  {
   "cell_type": "markdown",
   "id": "66d66dfe",
   "metadata": {},
   "source": [
    "let's also define a method to make it easier to name our files"
   ]
  },
  {
   "cell_type": "code",
   "execution_count": 3,
   "id": "b131386e",
   "metadata": {},
   "outputs": [],
   "source": [
    "folder = \"../archived_iso_data/caiso/\"\n",
    "def make_filename(name, start, end):\n",
    "    return f\"{name}_{start.strftime('%Y-%m-%d')}_{end.strftime('%Y-%m-%d')}.csv\" "
   ]
  },
  {
   "cell_type": "markdown",
   "id": "d72d78bf",
   "metadata": {},
   "source": [
    "## Historical Fuel Mix"
   ]
  },
  {
   "cell_type": "code",
   "execution_count": null,
   "id": "b2c244d8",
   "metadata": {},
   "outputs": [
    {
     "name": "stderr",
     "output_type": "stream",
     "text": [
      "  6%|██▎                                      | 93/1659 [00:49<14:34,  1.79it/s]"
     ]
    }
   ],
   "source": [
    "start = pd.Timestamp(\"April 10, 2018\").normalize()\n",
    "end = pd.Timestamp.now().normalize()\n",
    "\n",
    "mix_df = caiso.get_historical_fuel_mix(start, end=end, verbose=False)\n",
    "\n",
    "mix_df.to_csv(make_filename(folder+\"fuel_mix\", start, end), index=None)"
   ]
  },
  {
   "cell_type": "markdown",
   "id": "b8a62d01",
   "metadata": {},
   "source": [
    "## Historical Load "
   ]
  },
  {
   "cell_type": "code",
   "execution_count": null,
   "id": "eb3b4899",
   "metadata": {},
   "outputs": [],
   "source": [
    "start = pd.Timestamp(\"April 10, 2018\").normalize()\n",
    "end = pd.Timestamp.now().normalize()\n",
    "\n",
    "demand_df = caiso.get_historical_demand(start, end=end, verbose=False)\n",
    "\n",
    "demand_df.to_csv(make_filename(folder+\"demand\", start, end), index=None)"
   ]
  },
  {
   "cell_type": "markdown",
   "id": "b0927560",
   "metadata": {},
   "source": [
    "## Historical Locational Marginal Pricing (LMP)\n",
    "\n",
    "You can supply whatever nodes or market you'd like, but for now let's download data for 3 trading hubs in the Day Head Hourly Market"
   ]
  },
  {
   "cell_type": "code",
   "execution_count": null,
   "id": "f9480783",
   "metadata": {},
   "outputs": [],
   "source": [
    "start = pd.Timestamp(\"Jan 01, 2022\").normalize()\n",
    "end = pd.Timestamp.now().normalize()\n",
    "\n",
    "locations = ['TH_NP15_GEN-APND', 'TH_SP15_GEN-APND', 'TH_ZP26_GEN-APND']\n",
    "\n",
    "lmp_df = caiso.get_historical_lmp(start=start,  \n",
    "                                  end=end,\n",
    "                                  market='DAY_AHEAD_HOURLY', \n",
    "                                  locations=locations, \n",
    "                                  sleep=5)\n",
    "\n",
    "lmp_df.to_csv(make_filename(folder+\"dam_lmp\", start, end), index=None)"
   ]
  },
  {
   "cell_type": "markdown",
   "id": "dac5075a",
   "metadata": {},
   "source": [
    "## Gas Prices\n",
    "\n",
    "CAISO also publish information about gas prices and greenhouse gas allownces that we will download"
   ]
  },
  {
   "cell_type": "code",
   "execution_count": null,
   "id": "917a3e07",
   "metadata": {},
   "outputs": [],
   "source": [
    "start = start = pd.Timestamp(\"Jan 01, 2022\").normalize()\n",
    "end = pd.Timestamp.now().normalize()\n",
    "\n",
    "gas_price_df = caiso.get_historical_gas_prices(start=start, end=end, fuel_region_id=\"FRPGE2GHG\")\n",
    "\n",
    "gas_price_df.to_csv(make_filename(folder+\"gas_prices\", start, end), index=None)"
   ]
  },
  {
   "cell_type": "code",
   "execution_count": null,
   "id": "f4168867",
   "metadata": {},
   "outputs": [],
   "source": [
    "start = start = pd.Timestamp(\"Jan 01, 2022\").normalize()\n",
    "end = pd.Timestamp.now().normalize()\n",
    "\n",
    "ghg_df = caiso.get_historical_ghg_allowance(start=start, end=end, verbose=True)\n",
    "\n",
    "ghg_df.to_csv(make_filename(folder+\"ghg_allowance\", start, end), index=None)"
   ]
  }
 ],
 "metadata": {
  "kernelspec": {
   "display_name": "Python 3 (ipykernel)",
   "language": "python",
   "name": "python3"
  },
  "language_info": {
   "codemirror_mode": {
    "name": "ipython",
    "version": 3
   },
   "file_extension": ".py",
   "mimetype": "text/x-python",
   "name": "python",
   "nbconvert_exporter": "python",
   "pygments_lexer": "ipython3",
   "version": "3.10.2"
  }
 },
 "nbformat": 4,
 "nbformat_minor": 5
}
